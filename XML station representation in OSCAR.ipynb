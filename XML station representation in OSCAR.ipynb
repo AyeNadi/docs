{
 "cells": [
  {
   "cell_type": "markdown",
   "metadata": {},
   "source": [
    "In this blog post we want to show how to create a station, change it and finally close it, using the XML representation of a station. First we will have a closer look at the XML file for a station, what characterizes a typical station in OSCAR (in this example a simple snyoptic station) and how is that represented in the XML file. The following Table lists the elements of our example station:  \n",
    "\n",
    "| Metadata field | Example station |\n",
    "|----|----|\n",
    "| Name | ST-PREX |\n",
    "| Station type | Land (fixed) |\n",
    "| WIGOS ID | 0-20000-0-06706 |\n",
    "| WMO region | VI - Europe |\n",
    "| Territory | Switzerland |\n",
    "| Coordinates | 46.4836111111°N, | \n",
    "| <i></i> | 6.4430555556°E, |\n",
    "| <i></i> | 425m |\n",
    "| Supervising organization | MeteoSwiss |\n",
    "| Program | GOS |\n",
    "| Observation 1 | Humidity |\n",
    "| Observation 2 | Precipitation |\n",
    "| Observation 3 | Pressure |\n",
    "| Observation 4 | Temperature |\n",
    "| Observation 5 | Wind |\n",
    "| Station contacts | Mr. XY |"
   ]
  },
  {
   "cell_type": "markdown",
   "metadata": {},
   "source": [
    "Coordinates:"
   ]
  },
  {
   "cell_type": "markdown",
   "metadata": {},
   "source": [
    "```xml\n",
    "<wmdr:geoLocation xlink:type=\"simple\">\n",
    "    <gml:Point gml:id=\"id_038e8fcd-7bc9-4731-aa2b-3c4ab53f3c25\">\n",
    "        <gml:pos>46.4836111111 6.4430555556 425.0</gml:pos>\n",
    "    </gml:Point>\n",
    "</wmdr:geoLocation> \n",
    "```"
   ]
  },
  {
   "cell_type": "markdown",
   "metadata": {},
   "source": [
    "Territory"
   ]
  },
  {
   "cell_type": "code",
   "execution_count": null,
   "metadata": {},
   "outputs": [],
   "source": [
    "            <wmdr:territory>\n",
    "                <wmdr:Territory>\n",
    "                    <wmdr:territoryName xlink:type=\"simple\" xlink:href=\"http://codes.wmo.int/wmdr/CHE\"/>\n",
    "                    <wmdr:validPeriod xlink:type=\"simple\">\n",
    "                        <gml:TimePeriod gml:id=\"id_34899191-4264-4cfb-9629-af6d039f21ae\">\n",
    "                            <gml:beginPosition>2016-04-28T00:00:00.000+02:00</gml:beginPosition>\n",
    "                            <gml:endPosition/>\n",
    "                        </gml:TimePeriod>\n",
    "                    </wmdr:validPeriod>\n",
    "                </wmdr:Territory>\n",
    "            </wmdr:territory>"
   ]
  },
  {
   "cell_type": "code",
   "execution_count": null,
   "metadata": {},
   "outputs": [],
   "source": [
    "            <wmdr:wmoRegion xlink:type=\"simple\" xlink:href=\"http://codes.wmo.int/wmdr/europe\"/>"
   ]
  },
  {
   "cell_type": "code",
   "execution_count": null,
   "metadata": {},
   "outputs": [],
   "source": [
    "            <wmdr:facilityType xlink:type=\"simple\" xlink:href=\"http://codes.wmo.int/wmdr/landFixed\"/>"
   ]
  },
  {
   "cell_type": "code",
   "execution_count": null,
   "metadata": {},
   "outputs": [],
   "source": [
    "            <wmdr:programAffiliation>\n",
    "                <wmdr:ProgramAffiliation>\n",
    "                    <wmdr:programAffiliation xlink:type=\"simple\" xlink:href=\"http://codes.wmo.int/wmdr/GOS\"/>\n",
    "                    <wmdr:reportingStatus>\n",
    "                        <wmdr:ReportingStatus>\n",
    "                            <wmdr:reportingStatus xlink:type=\"simple\" xlink:href=\"http://codes.wmo.int/wmdr/operational\"/>\n",
    "                            <wmdr:validPeriod xlink:type=\"simple\">\n",
    "<gml:TimePeriod gml:id=\"id_fd9ecc2b-1072-4844-a985-c1a36287a1e9\">\n",
    "    <gml:beginPosition>2016-04-28T00:00:00.000+02:00</gml:beginPosition>\n",
    "    <gml:endPosition/>\n",
    "</gml:TimePeriod>\n",
    "                            </wmdr:validPeriod>\n",
    "                        </wmdr:ReportingStatus>\n",
    "                    </wmdr:reportingStatus>\n",
    "                </wmdr:ProgramAffiliation>\n",
    "            </wmdr:programAffiliation>"
   ]
  },
  {
   "cell_type": "code",
   "execution_count": null,
   "metadata": {},
   "outputs": [],
   "source": []
  },
  {
   "cell_type": "code",
   "execution_count": null,
   "metadata": {},
   "outputs": [],
   "source": []
  },
  {
   "cell_type": "code",
   "execution_count": null,
   "metadata": {},
   "outputs": [],
   "source": []
  },
  {
   "cell_type": "code",
   "execution_count": null,
   "metadata": {},
   "outputs": [],
   "source": []
  }
 ],
 "metadata": {
  "kernelspec": {
   "display_name": "Python 3",
   "language": "python",
   "name": "python3"
  },
  "language_info": {
   "codemirror_mode": {
    "name": "ipython",
    "version": 3
   },
   "file_extension": ".py",
   "mimetype": "text/x-python",
   "name": "python",
   "nbconvert_exporter": "python",
   "pygments_lexer": "ipython3",
   "version": "3.7.1"
  }
 },
 "nbformat": 4,
 "nbformat_minor": 2
}
