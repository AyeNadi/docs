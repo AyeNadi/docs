{
 "cells": [
  {
   "cell_type": "markdown",
   "metadata": {},
   "source": [
    "In this blog post we want to show how to create a station, change it and finally close it, using the XML representation of a station. First we will have a closer look at the XML file for a station, what characterizes a typical station in OSCAR (in this example a simple snyoptic station starting with only one observation) and how this is represented in the XML file. The following Table lists the elements of our example station before adapting it:  \n",
    "\n",
    "| Metadata field | Example station | ID in XML file |\n",
    "|----|----|----|\n",
    "| Name | Blogstation | - |\n",
    "| Station type | Land (fixed) | - |\n",
    "| WIGOS ID | 0-20000-0-blog | \\_0-20000-0-blog, id-obs1_stat |\n",
    "| WMO region | VI - Europe | - |\n",
    "| Territory | Switzerland | - |\n",
    "| Coordinates | 46.224331°N, | id-coord | \n",
    "| <i></i> | 6.146441°E, | \" |\n",
    "| <i></i> | 375m | \" |\n",
    "| Supervising organization | WMO | - |\n",
    "| Program | GOS | - |\n",
    "| Observation 1 | Humidity | id-obs1_geom (geometry), | \n",
    "| <i></i>       | <i></i>  | id-obs1_proc (processing), |\n",
    "| <i></i>       | <i></i>  | id-obs1_dep1 (first deployment), | \n",
    "| <i></i>       | <i></i>  | id-obs1_dep1_datag1 (data generation) |"
   ]
  },
  {
   "cell_type": "markdown",
   "metadata": {},
   "source": [
    "Now we want to create a XML file containing this information of our example station. Our XML file starts with a header. It contains the information about the XML version (1.0), the encoding (UTF-8) and the links to the metadata standard (?):"
   ]
  },
  {
   "cell_type": "markdown",
   "metadata": {},
   "source": [
    "```xml\n",
    "<?xml version=\"1.0\" encoding=\"UTF-8\" standalone=\"yes\"?>\n",
    "<wmdr:WIGOSMetadataRecord xmlns:gml=\"http://www.opengis.net/gml/3.2\" xmlns:xlink=\"http://www.w3.org/1999/xlink\" xmlns:wmdr=\"http://def.wmo.int/wmdr/2017\" xmlns:gco=\"http://www.isotc211.org/2005/gco\" xmlns:gmd=\"http://www.isotc211.org/2005/gmd\" xmlns:ns6=\"http://def.wmo.int/opm/2013\" xmlns:ns7=\"http://def.wmo.int/metce/2013\" xmlns:om=\"http://www.opengis.net/om/2.0\" xmlns:ns9=\"http://www.isotc211.org/2005/gts\" xmlns:sam=\"http://www.opengis.net/sampling/2.0\" xmlns:sams=\"http://www.opengis.net/samplingSpatial/2.0\" xmlns:xsi=\"http://www.w3.org/2001/XMLSchema-instance\" gml:id=\"id_f64ee9c5-9fbd-4b54-9923-4184424c109d\" xsi:schemaLocation=\"http://def.wmo.int/wmdr/2017 http://schemas.wmo.int/wmdr/1.0RC9/wmdr.xsd\">\n",
    "    <wmdr:headerInformation>\n",
    "        <wmdr:Header/>\n",
    "    </wmdr:headerInformation>\n",
    "```                                                            "
   ]
  },
  {
   "cell_type": "markdown",
   "metadata": {},
   "source": [
    "Next follows some information about the facility (station) that we want to represent in our XML file. That is the WIGOS ID (gml:identifier) and station name (gml:name):"
   ]
  },
  {
   "cell_type": "markdown",
   "metadata": {},
   "source": [
    "```xml\n",
    "    <wmdr:facility>\n",
    "        <wmdr:ObservingFacility gml:id=\"_0-20000-0-blog\">\n",
    "            <gml:identifier codeSpace=\"0-20000-0-blog\">0-20000-0-blog</gml:identifier>\n",
    "            <gml:name>Blogstation</gml:name>\n",
    "            <gml:boundedBy xsi:nil=\"true\"/>\n",
    "```"
   ]
  },
  {
   "cell_type": "markdown",
   "metadata": {},
   "source": [
    "The element gml:id is the internal id of the corresponding element, here our wigos station id (\\_0-20000-0-blog). We need this internal id for each historized element in case we want to apply changes to this specific element later on. Without this id OSCAR does not know what is changed when uploading a changed/new XML file and might therefore create a new entry instead of updating an old entry (see examples later). The ids for the corresponging elements are also given in the Table above. the implication of this id will be shown later with some examples.\n",
    "\n",
    "We want to add the supervising organization of the station next to the XML file. The wmdr element for that in the XML Standard is called responsibleParty, the role of this party has to be defined as well (here owner, refering to the corresponding codelist). The supervising organization has to be set for a certain time span (validPeriod), here starting at the 01.03.2019:"
   ]
  },
  {
   "cell_type": "markdown",
   "metadata": {},
   "source": [
    "```xml\n",
    "            <wmdr:responsibleParty>\n",
    "                <wmdr:ResponsibleParty>\n",
    "                    <wmdr:responsibleParty>\n",
    "                        <gmd:CI_ResponsibleParty>\n",
    "                            <gmd:organisationName>\n",
    "\t\t\t\t\t\t\t<gco:CharacterString>WMO</gco:CharacterString>\n",
    "                            </gmd:organisationName>\n",
    "                            <gmd:role>\n",
    "\t\t\t\t\t\t\t<gmd:CI_RoleCode codeList=\"http://codes.wmo.int/wmdr/owner\" codeListValue=\"owner\"/>\n",
    "                            </gmd:role>\n",
    "                        </gmd:CI_ResponsibleParty>\n",
    "                    </wmdr:responsibleParty>\n",
    "                    <wmdr:validPeriod xlink:type=\"simple\">\n",
    "                        <gml:TimePeriod gml:id=\"id-time_orga\">\n",
    "                            <gml:beginPosition>2019-03-01</gml:beginPosition>\n",
    "                            <gml:endPosition/>\n",
    "                        </gml:TimePeriod>\n",
    "                    </wmdr:validPeriod>\n",
    "                </wmdr:ResponsibleParty>\n",
    "            </wmdr:responsibleParty>\n",
    "```"
   ]
  },
  {
   "cell_type": "markdown",
   "metadata": {},
   "source": [
    "Now we define the location/coordinates of our station (gml:pos: lon, lat, height). Here as well we have to define for which time span this information is valid. We only set the start date (beginPosition):"
   ]
  },
  {
   "cell_type": "markdown",
   "metadata": {},
   "source": [
    "```xml\n",
    "            <wmdr:geospatialLocation>\n",
    "                <wmdr:GeospatialLocation>\n",
    "                    <wmdr:geoLocation xlink:type=\"simple\">\n",
    "                        <gml:Point gml:id=\"id-coord\">\n",
    "                            <gml:pos>46.224331 6.146441 375.0</gml:pos>\n",
    "                        </gml:Point>\n",
    "                    </wmdr:geoLocation>\n",
    "                    <wmdr:validPeriod xlink:type=\"simple\">\n",
    "                        <gml:TimePeriod gml:id=\"id-time_coord\">\n",
    "                            <gml:beginPosition>2019-03-01</gml:beginPosition>\n",
    "                            <gml:endPosition/>\n",
    "                        </gml:TimePeriod>\n",
    "                    </wmdr:validPeriod>\n",
    "                </wmdr:GeospatialLocation>\n",
    "            </wmdr:geospatialLocation>     \n",
    "```"
   ]
  },
  {
   "cell_type": "markdown",
   "metadata": {},
   "source": [
    "The station type is defined the following using the corresponding codelist:"
   ]
  },
  {
   "cell_type": "markdown",
   "metadata": {},
   "source": [
    "```xml\n",
    "<wmdr:facilityType xlink:type=\"simple\" xlink:href=\"http://codes.wmo.int/wmdr/landFixed\"/>\n",
    "```"
   ]
  },
  {
   "cell_type": "markdown",
   "metadata": {},
   "source": [
    "The date when the station was established has to be added as well:"
   ]
  },
  {
   "cell_type": "markdown",
   "metadata": {},
   "source": [
    "```xml\n",
    "<wmdr:dateEstablished>2019-03-01</wmdr:dateEstablished>\n",
    "```"
   ]
  },
  {
   "cell_type": "markdown",
   "metadata": {},
   "source": [
    "The WMO region uses as well a link to the corresponding codelist:"
   ]
  },
  {
   "cell_type": "markdown",
   "metadata": {},
   "source": [
    "```xml\n",
    "<wmdr:wmoRegion xlink:type=\"simple\" xlink:href=\"http://codes.wmo.int/wmdr/europe\"/>\n",
    "```"
   ]
  },
  {
   "cell_type": "markdown",
   "metadata": {},
   "source": [
    "As a next step we add the territory of our station:"
   ]
  },
  {
   "cell_type": "markdown",
   "metadata": {},
   "source": [
    "```xml\n",
    "            <wmdr:territory>\n",
    "                <wmdr:Territory>\n",
    "                    <wmdr:territoryName xlink:type=\"simple\" xlink:href=\"http://codes.wmo.int/wmdr/CHE\"/>\n",
    "                    <wmdr:validPeriod xlink:type=\"simple\">\n",
    "                        <gml:TimePeriod gml:id=\"id-time_territory\">\n",
    "                            <gml:beginPosition>2019-03-01</gml:beginPosition>\n",
    "                            <gml:endPosition/>\n",
    "                        </gml:TimePeriod>\n",
    "                    </wmdr:validPeriod>\n",
    "                </wmdr:Territory>\n",
    "            </wmdr:territory>\n",
    "```"
   ]
  },
  {
   "cell_type": "markdown",
   "metadata": {},
   "source": [
    "And the program affiliation (GOS, operational):           "
   ]
  },
  {
   "cell_type": "markdown",
   "metadata": {},
   "source": [
    "```xml\n",
    "            <wmdr:programAffiliation>\n",
    "                <wmdr:ProgramAffiliation>\n",
    "                    <wmdr:programAffiliation xlink:type=\"simple\" xlink:href=\"http://codes.wmo.int/wmdr/GOS\"/>\n",
    "                    <wmdr:reportingStatus>\n",
    "                        <wmdr:ReportingStatus>\n",
    "                          <wmdr:reportingStatus xlink:type=\"simple\" xlink:href=\"http://codes.wmo.int/wmdr/operational\"/>\n",
    "                          <wmdr:validPeriod xlink:type=\"simple\">\n",
    "\t\t\t\t\t\t  <gml:TimePeriod gml:id=\"id-time_prog\">\n",
    "\t\t\t\t\t\t\t\t<gml:beginPosition>2019-03-01</gml:beginPosition>\n",
    "\t\t\t\t\t\t\t\t<gml:endPosition/>\n",
    "\t\t\t\t\t\t  </gml:TimePeriod>\n",
    "                          </wmdr:validPeriod>\n",
    "                        </wmdr:ReportingStatus>\n",
    "                    </wmdr:reportingStatus>\n",
    "                </wmdr:ProgramAffiliation>\n",
    "            </wmdr:programAffiliation>\n",
    "```"
   ]
  },
  {
   "cell_type": "markdown",
   "metadata": {},
   "source": [
    "And last but not least we also want to add observations. We will start with a single observation and add more later. The following shows an example entry for the first observation, describing the program affiliation, the geometry of the observation (here: point), the processing of the observation containing the schedule (for the first deployment; here: throughout the year), the sampling (here: continuous) and the reporting (here: observation is shared internationally, reported every hour and has the unit kg/kg), and the variable which is observed by refering to the number code (here: 251, which means humidity):"
   ]
  },
  {
   "cell_type": "markdown",
   "metadata": {},
   "source": [
    "```xml\n",
    "            <wmdr:observation xlink:type=\"simple\">\n",
    "                <wmdr:ObservingCapability gml:id=\"id-obs1_stat\">\n",
    "                    <gml:boundedBy xsi:nil=\"true\"/>\n",
    "                    <wmdr:facility xlink:type=\"simple\" xlink:href=\"_0-20000-0-blog\"/>\n",
    "                    <wmdr:programAffiliation xlink:type=\"simple\" xlink:href=\"http://codes.wmo.int/wmdr/GOS\"/>\n",
    "                    <wmdr:observation xlink:type=\"simple\">\n",
    "                        <om:OM_Observation gml:id=\"id-obs1_geom\">\n",
    "                            <gml:boundedBy xsi:nil=\"true\"/>\n",
    "                            <om:type xlink:type=\"simple\" xlink:href=\"http://codes.wmo.int/wmdr/point\"/>\n",
    "                            <om:metadata xlink:type=\"simple\">\n",
    "                            </om:metadata>\n",
    "                            <om:phenomenonTime xlink:type=\"simple\"/>\n",
    "                            <om:resultTime xlink:type=\"simple\"/>\n",
    "                            <om:procedure xlink:type=\"simple\">\n",
    "<wmdr:Process gml:id=\"id-obs1_proc\">\n",
    "    <gml:boundedBy xsi:nil=\"true\"/>\n",
    "    <wmdr:deployment xlink:type=\"simple\">\n",
    "        <wmdr:Deployment gml:id=\"id-obs1_dep1\">\n",
    "            <gml:boundedBy xsi:nil=\"true\"/>\n",
    "            <wmdr:dataGeneration xlink:type=\"simple\">\n",
    "                <wmdr:DataGeneration gml:id=\"id-obs1_dep1_datag\">\n",
    "                    <gml:boundedBy xsi:nil=\"true\"/>\n",
    "                    <wmdr:validPeriod xlink:type=\"simple\">\n",
    "                        <gml:TimePeriod gml:id=\"id-obs1-time_dep1\">\n",
    "                            <gml:beginPosition>2019-03-01</gml:beginPosition>\n",
    "                            <gml:endPosition/>\n",
    "                        </gml:TimePeriod>\n",
    "                    </wmdr:validPeriod>\n",
    "\t\t\t\t\t<wmdr:schedule>\n",
    "\t\t\t\t\t\t<wmdr:Schedule>\n",
    "\t\t\t\t\t\t\t<wmdr:startMonth>1</wmdr:startMonth>\n",
    "\t\t\t\t\t\t\t<wmdr:endMonth>12</wmdr:endMonth>\n",
    "\t\t\t\t\t\t\t<wmdr:startWeekday>1</wmdr:startWeekday>\n",
    "\t\t\t\t\t\t\t<wmdr:endWeekday>7</wmdr:endWeekday>\n",
    "\t\t\t\t\t\t\t<wmdr:startHour>0</wmdr:startHour>\n",
    "\t\t\t\t\t\t\t<wmdr:endHour>23</wmdr:endHour>\n",
    "\t\t\t\t\t\t\t<wmdr:startMinute>59</wmdr:startMinute>\n",
    "\t\t\t\t\t\t\t<wmdr:endMinute>59</wmdr:endMinute>\n",
    "\t\t\t\t\t\t\t\t<wmdr:diurnalBaseTime>00:00:00Z</wmdr:diurnalBaseTime>\n",
    "\t\t\t\t\t\t</wmdr:Schedule>\n",
    "\t\t\t\t\t</wmdr:schedule>\n",
    "\t\t\t\t\t<wmdr:sampling>\n",
    "\t\t\t\t\t <wmdr:Sampling>\n",
    "\t\t\t\t\t  <wmdr:samplingStrategy xlink:href=\"http://codes.wmo.int/common/wmdr/SamplingStrategy/continuous\"/>\n",
    "\t\t\t\t\t </wmdr:Sampling>\n",
    "\t\t\t\t\t</wmdr:sampling>\n",
    "\t\t\t\t\t<wmdr:reporting>\n",
    "\t\t\t\t\t\t<wmdr:Reporting>\n",
    "\t\t\t\t\t\t\t<wmdr:internationalExchange>true</wmdr:internationalExchange>\n",
    "\t\t\t\t\t\t\t<wmdr:uom xlink:href=\"http://codes.wmo.int/common/unit/kg_kg-1\"/>\n",
    "\t\t\t\t\t\t\t<wmdr:temporalReportingInterval>PT3600S</wmdr:temporalReportingInterval>\n",
    "\t\t\t\t\t\t</wmdr:Reporting>\n",
    "\t\t\t\t\t</wmdr:reporting>\n",
    "                </wmdr:DataGeneration>\n",
    "            </wmdr:dataGeneration>\n",
    "            <wmdr:validPeriod xlink:type=\"simple\"/>\n",
    "            <wmdr:localReferenceSurface xlink:type=\"simple\"/>\n",
    "            <wmdr:applicationArea xlink:type=\"simple\"/>\n",
    "            <wmdr:sourceOfObservation xlink:type=\"simple\"/>\n",
    "            <wmdr:exposure xlink:type=\"simple\"/>\n",
    "        </wmdr:Deployment>\n",
    "    </wmdr:deployment>\n",
    "</wmdr:Process>\n",
    "                            </om:procedure>\n",
    "                            <om:observedProperty xlink:type=\"simple\" xlink:href=\"http://codes.wmo.int/wmdr/251\"/>\n",
    "                            <om:featureOfInterest xsi:nil=\"true\"/>\n",
    "                            <om:result xlink:type=\"simple\">\n",
    "                            </om:result>\n",
    "                        </om:OM_Observation>\n",
    "                    </wmdr:observation>\n",
    "                </wmdr:ObservingCapability>\n",
    "            </wmdr:observation>\n",
    "\n",
    "\n",
    "\n",
    "      \n",
    "```"
   ]
  },
  {
   "cell_type": "markdown",
   "metadata": {},
   "source": [
    "You can download the complete XML file for registering this test station [here](https://github.com/wmo-im/docs/blob/master/Blogstation1.xml).\n",
    "To make it easier to manually create a XML file, you can also use the following Python-script:\n",
    "ADD!"
   ]
  },
  {
   "cell_type": "markdown",
   "metadata": {},
   "source": [
    "# Registration of a station via XML upload\n",
    "\n",
    "To register our new station in OSCAR (starting from the XML representation) we use the XML submission (see Figure below).\n",
    "![Upload of a XML file](Create-station-upload.PNG)\n",
    "The same can be used to update/change our new station.\n",
    "\n",
    "The station is now registered in OSCAR and we can have look at the [station report](https://github.com/wmo-im/docs/blob/master/Station_Report-Blogstation1.pdf)."
   ]
  },
  {
   "cell_type": "markdown",
   "metadata": {},
   "source": [
    "\n",
    "# Changing a station using the XML upload\n",
    "\n",
    "When you want to adapt changes to your station it is important to understand the role of the gml:ids and historized vs. non-historized elemnets/information. In OSCAR most information is historized, meaning that this information will never be discarded. For example lets assume we upload again our station XML file but this time without humidity observations. This will not change the information of our station in OSCAR nor the station report. If we want to remove a certain observation, we have to close it, meaning that we have to define an end date of the spcific deployment. Adding information to our existant station is pretty easy by adding it in the XML file.\n",
    "\n",
    "We are going to test this by uploading a [new version of our XML file]() with three additional observations:\n",
    "\n",
    "| Metadata field | Example station | \n",
    "|----|----|\n",
    "| Observation 2 | Pressure | \n",
    "| Observation 3 | Temperature | \n",
    "| Observation 4 | Wind | \n",
    "\n",
    "Humidity is not added as a variable anymore as an example that this information nevertheless is not removed in OSCAR. \n",
    "\n",
    "After uploading the XML file, our station information is updated and the station report looks [like this](https://github.com/wmo-im/docs/blob/master/Station_Report-Blogstation2.pdf)."
   ]
  },
  {
   "cell_type": "markdown",
   "metadata": {},
   "source": [
    "There is also non-historized information in OSCAR. That means changing this information in the new XML file will update the information in OSCAR after uploading the new file. It will not be stored that this information was different in some point of time. One example for this is the date established of a station. Lets assume we did a mistake when we uploaded our new station and the station did actually already exist before 01.03.2019. Thus we will change the date established date to 01.01.1970 by uploading a [new XML file](https://github.com/wmo-im/docs/blob/master/Blogstation3.xml).This results in the following [station report](https://github.com/wmo-im/docs/blob/master/Station_Report-Blogstation3.pdf).\n",
    "\n",
    "Note that changing the date established date of the station has no influence on the deployments. All the deployments for our snyoptical measurements are still starting at 01.03.2019. We want to fill this gap now and add additional deployments for the time period between 01.01.1970 and 01.03.2019 or change the existing deployments to also start at 01.01.1970. For this it is crucial to take care of the gml:id. The id helps OSCAR to recognize if an information should be added, or edited, or to find potential conflicts. There are three different scenarios which can lead to different results. We will test all three of them by uploading another XML file to update our station."
   ]
  },
  {
   "cell_type": "markdown",
   "metadata": {},
   "source": [
    "\n",
    "\n"
   ]
  },
  {
   "cell_type": "markdown",
   "metadata": {},
   "source": [
    "The three cases we are going to take into account are:\n",
    "\n",
    "1.) One case were we want to extend one deployment of one observation variable. Here we want to add that between 01.01.1970 and 01.03.2013 there have been humidity measurements as well, but with a lower frequency of 6h. We will add this information by adding a second processing block of one deployment into the XML file. The gml:id for this block has to be different from the first one (id-obs1_dep1), here we will choose id-obs1_dep2.\n",
    "\n",
    "2.) One case where we want to edit the time period of one observation, assuming that the pressure observations took place with the same schedule/sampling frequency already since 01.01.1970.\n",
    "\n",
    "3.) We will create a conflict by adding another deployment to the wind observations using the same indices as for the first deployment. Since OSCAR does not know if the deployment should be changed or added, the change will be discarded. -> das hat nicht funktioniert???\n",
    "\n",
    "The corresponding XML file can be found [here](). Looking at the [station report](https://github.com/wmo-im/docs/blob/master/Station_Report-Blogstation4.pdf) we can see that indeed the humidity observation has a second data deployment, the deployment of the pressure observation is now extended over the whole time period and nothing changed for the deployment of the wind observation."
   ]
  },
  {
   "cell_type": "markdown",
   "metadata": {},
   "source": [
    "Add more examples?: change one observation to AWS, korekt ohne unit for a specific time period?, add a station contact?"
   ]
  },
  {
   "cell_type": "markdown",
   "metadata": {},
   "source": [
    "\n",
    "    "
   ]
  },
  {
   "cell_type": "markdown",
   "metadata": {},
   "source": []
  },
  {
   "cell_type": "markdown",
   "metadata": {},
   "source": []
  },
  {
   "cell_type": "markdown",
   "metadata": {},
   "source": []
  },
  {
   "cell_type": "markdown",
   "metadata": {},
   "source": []
  },
  {
   "cell_type": "markdown",
   "metadata": {},
   "source": []
  }
 ],
 "metadata": {
  "kernelspec": {
   "display_name": "Python 3",
   "language": "python",
   "name": "python3"
  },
  "language_info": {
   "codemirror_mode": {
    "name": "ipython",
    "version": 3
   },
   "file_extension": ".py",
   "mimetype": "text/x-python",
   "name": "python",
   "nbconvert_exporter": "python",
   "pygments_lexer": "ipython3",
   "version": "3.7.1"
  }
 },
 "nbformat": 4,
 "nbformat_minor": 2
}
